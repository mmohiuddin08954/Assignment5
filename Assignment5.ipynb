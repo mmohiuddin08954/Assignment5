{
 "cells": [
  {
   "cell_type": "code",
   "execution_count": 1,
   "metadata": {},
   "outputs": [
    {
     "name": "stdout",
     "output_type": "stream",
     "text": [
      "Deterministic vs Randomized Quicksort Results:\n",
      "                      Deterministic Quicksort  Randomized Quicksort\n",
      "Random Array                         0.019942              0.016586\n",
      "Sorted Array                         0.015563              0.020236\n",
      "Reverse Sorted Array                 0.008434              0.019323\n"
     ]
    }
   ],
   "source": [
    "import random\n",
    "import time\n",
    "import pandas as pd\n",
    "\n",
    "# Deterministic Quicksort\n",
    "def quicksort(arr):\n",
    "    if len(arr) <= 1:\n",
    "        return arr\n",
    "    else:\n",
    "        pivot = arr[len(arr) // 2]  # Choose the middle element as the pivot\n",
    "        left = [x for x in arr if x < pivot]\n",
    "        middle = [x for x in arr if x == pivot]\n",
    "        right = [x for x in arr if x > pivot]\n",
    "        return quicksort(left) + middle + quicksort(right)\n",
    "\n",
    "# Randomized Quicksort\n",
    "def randomized_quicksort(arr):\n",
    "    if len(arr) <= 1:\n",
    "        return arr\n",
    "    else:\n",
    "        pivot = random.choice(arr)  # Choose a random pivot\n",
    "        left = [x for x in arr if x < pivot]\n",
    "        middle = [x for x in arr if x == pivot]\n",
    "        right = [x for x in arr if x > pivot]\n",
    "        return randomized_quicksort(left) + middle + randomized_quicksort(right)\n",
    "\n",
    "# Function to time the execution of a function\n",
    "def time_sort(sort_function, arr):\n",
    "    start_time = time.time()\n",
    "    sort_function(arr.copy())  # Use a copy of the array to avoid in-place modification\n",
    "    return time.time() - start_time\n",
    "\n",
    "# Test data\n",
    "sizes = [1000, 5000, 10000, 50000]\n",
    "random_array = [random.randint(0, 10000) for _ in range(10000)]\n",
    "sorted_array = sorted(random_array)\n",
    "reverse_sorted_array = sorted(random_array, reverse=True)\n",
    "\n",
    "# Timing deterministic Quicksort\n",
    "det_random_time = time_sort(quicksort, random_array)\n",
    "det_sorted_time = time_sort(quicksort, sorted_array)\n",
    "det_reverse_time = time_sort(quicksort, reverse_sorted_array)\n",
    "\n",
    "# Timing randomized Quicksort\n",
    "rand_random_time = time_sort(randomized_quicksort, random_array)\n",
    "rand_sorted_time = time_sort(randomized_quicksort, sorted_array)\n",
    "rand_reverse_time = time_sort(randomized_quicksort, reverse_sorted_array)\n",
    "\n",
    "# Results\n",
    "det_results = {\n",
    "    \"Deterministic Quicksort\": {\n",
    "        \"Random Array\": det_random_time,\n",
    "        \"Sorted Array\": det_sorted_time,\n",
    "        \"Reverse Sorted Array\": det_reverse_time\n",
    "    }\n",
    "}\n",
    "\n",
    "rand_results = {\n",
    "    \"Randomized Quicksort\": {\n",
    "        \"Random Array\": rand_random_time,\n",
    "        \"Sorted Array\": rand_sorted_time,\n",
    "        \"Reverse Sorted Array\": rand_reverse_time\n",
    "    }\n",
    "}\n",
    "\n",
    "# Convert to DataFrame\n",
    "df_det = pd.DataFrame(det_results)\n",
    "df_rand = pd.DataFrame(rand_results)\n",
    "\n",
    "# Display the results\n",
    "print(\"Deterministic vs Randomized Quicksort Results:\")\n",
    "print(pd.concat([df_det, df_rand], axis=1))"
   ]
  }
 ],
 "metadata": {
  "kernelspec": {
   "display_name": "Python 3",
   "language": "python",
   "name": "python3"
  },
  "language_info": {
   "codemirror_mode": {
    "name": "ipython",
    "version": 3
   },
   "file_extension": ".py",
   "mimetype": "text/x-python",
   "name": "python",
   "nbconvert_exporter": "python",
   "pygments_lexer": "ipython3",
   "version": "3.12.2"
  }
 },
 "nbformat": 4,
 "nbformat_minor": 2
}
